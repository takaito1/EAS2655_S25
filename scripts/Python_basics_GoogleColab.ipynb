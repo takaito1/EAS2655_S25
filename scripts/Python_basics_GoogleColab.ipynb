{
  "cells": [
    {
      "cell_type": "markdown",
      "metadata": {
        "id": "view-in-github",
        "colab_type": "text"
      },
      "source": [
        "<a href=\"https://colab.research.google.com/github/takaito1/EAS2655_S25/blob/main/scripts/Python_basics_GoogleColab.ipynb\" target=\"_parent\"><img src=\"https://colab.research.google.com/assets/colab-badge.svg\" alt=\"Open In Colab\"/></a>"
      ]
    },
    {
      "cell_type": "markdown",
      "metadata": {
        "id": "C--FmapE-COV"
      },
      "source": [
        "# Python Basics\n",
        "\n",
        "### Originally developed by A. Robel, modified by T. Ito\n",
        "\n",
        "#### January 2025"
      ]
    },
    {
      "cell_type": "markdown",
      "metadata": {
        "id": "S2VpSu8J-COW"
      },
      "source": [
        "This is a Jupyter notebook that takes you through many basic commands and concepts in Python. To execute through this notebook, use up and down arrows to move between cells (highlight in a blue box when you are in them) and then press SHIFT-Enter. Output (if there is any) shows up on under each executed cell."
      ]
    },
    {
      "cell_type": "markdown",
      "metadata": {
        "id": "gM7RTEtT-COW"
      },
      "source": [
        "## Loading packages"
      ]
    },
    {
      "cell_type": "markdown",
      "metadata": {
        "id": "nz11Sdie-COW"
      },
      "source": [
        "One of the big immediate differences of python (compared to MATLAB) is that for much of the functionality that you might use, you must install and load in packages. Google Colab, which you can easily access at [colab.google](https://colab.google) through your browser, has many \"standard\" packages already in its environment. Once you start to do fancier or more non-standard things, you may need to install new packages, which is generally straightforward to do using the \"!pip install\" command at the beginning of your script. For scientific computing and basic plotting, the most useful packages are numpy, matplotlib and scipy. These are all part of the standard google colab environment."
      ]
    },
    {
      "cell_type": "code",
      "execution_count": 45,
      "metadata": {
        "id": "tSrollUh-COX"
      },
      "outputs": [],
      "source": [
        "import numpy as np\n",
        "import matplotlib.pyplot as plt\n",
        "import scipy"
      ]
    },
    {
      "cell_type": "markdown",
      "metadata": {
        "id": "U3LHDLnW-COX"
      },
      "source": [
        "## Executing Commands"
      ]
    },
    {
      "cell_type": "markdown",
      "metadata": {
        "id": "WpZoX4Mm-COX"
      },
      "source": [
        "In normal python code (not a notebook like this) output is automatically supressed. In a notebook all output except the last line of a cell is suppressed. Otherwise, basic arithmetic syntax is the same as MATLAB, except for exponents."
      ]
    },
    {
      "cell_type": "code",
      "execution_count": 46,
      "metadata": {
        "id": "xnZ80Xq8-COX",
        "outputId": "f529889e-dd7b-4d40-a067-e10400e637b3",
        "colab": {
          "base_uri": "https://localhost:8080/"
        }
      },
      "outputs": [
        {
          "output_type": "execute_result",
          "data": {
            "text/plain": [
              "15"
            ]
          },
          "metadata": {},
          "execution_count": 46
        }
      ],
      "source": [
        "3*5"
      ]
    },
    {
      "cell_type": "code",
      "execution_count": 47,
      "metadata": {
        "id": "up5tixP7-COX",
        "outputId": "77c6fa7c-cbed-4a43-a0c1-2cc7a6135655",
        "colab": {
          "base_uri": "https://localhost:8080/"
        }
      },
      "outputs": [
        {
          "output_type": "execute_result",
          "data": {
            "text/plain": [
              "64"
            ]
          },
          "metadata": {},
          "execution_count": 47
        }
      ],
      "source": [
        "3*5\n",
        "8**2"
      ]
    },
    {
      "cell_type": "markdown",
      "metadata": {
        "id": "0IAHNqDn-COY"
      },
      "source": [
        "## Assign variables and data types"
      ]
    },
    {
      "cell_type": "markdown",
      "metadata": {
        "id": "TNDKEDDK-COY"
      },
      "source": [
        "Python is more strict about data types (particularly numbers) than MATLAB. In MATLAB integers and doubles will often be automatically converted by a function depending on what is needed. In Python, many functions require inputs to be one or the other and will give errors if you are not careful with input type"
      ]
    },
    {
      "cell_type": "code",
      "execution_count": 48,
      "metadata": {
        "id": "MEpaz-On-COY",
        "outputId": "cd4dbd5c-953f-47c7-9121-7ee4289f08b7",
        "colab": {
          "base_uri": "https://localhost:8080/"
        }
      },
      "outputs": [
        {
          "output_type": "execute_result",
          "data": {
            "text/plain": [
              "3"
            ]
          },
          "metadata": {},
          "execution_count": 48
        }
      ],
      "source": [
        "a1=3\n",
        "a1"
      ]
    },
    {
      "cell_type": "code",
      "execution_count": 49,
      "metadata": {
        "id": "lyQldrZp-COY",
        "outputId": "790f60fe-cb48-4905-f9e4-8b74748583f0",
        "colab": {
          "base_uri": "https://localhost:8080/"
        }
      },
      "outputs": [
        {
          "output_type": "execute_result",
          "data": {
            "text/plain": [
              "3.0"
            ]
          },
          "metadata": {},
          "execution_count": 49
        }
      ],
      "source": [
        "a2=3.0\n",
        "a2"
      ]
    },
    {
      "cell_type": "code",
      "execution_count": 50,
      "metadata": {
        "id": "MUeEFMye-COY",
        "outputId": "8f6da4f0-916f-47a5-a14d-c9e33cc3b572",
        "colab": {
          "base_uri": "https://localhost:8080/",
          "height": 35
        }
      },
      "outputs": [
        {
          "output_type": "execute_result",
          "data": {
            "text/plain": [
              "'hello'"
            ],
            "application/vnd.google.colaboratory.intrinsic+json": {
              "type": "string"
            }
          },
          "metadata": {},
          "execution_count": 50
        }
      ],
      "source": [
        "a3 = 'hello'\n",
        "a3"
      ]
    },
    {
      "cell_type": "code",
      "execution_count": 51,
      "metadata": {
        "id": "3nGLatt4-COY",
        "outputId": "23f7a0ce-9a1b-4f92-fcd7-0d8f9337788c",
        "colab": {
          "base_uri": "https://localhost:8080/"
        }
      },
      "outputs": [
        {
          "output_type": "execute_result",
          "data": {
            "text/plain": [
              "True"
            ]
          },
          "metadata": {},
          "execution_count": 51
        }
      ],
      "source": [
        "a4 = True #be careful to capitalize logical types in Python\n",
        "a4"
      ]
    },
    {
      "cell_type": "code",
      "execution_count": 52,
      "metadata": {
        "id": "NjWjXE-C-COY",
        "outputId": "04391f5c-b393-426f-99aa-e6769cbd1cf0",
        "colab": {
          "base_uri": "https://localhost:8080/"
        }
      },
      "outputs": [
        {
          "output_type": "execute_result",
          "data": {
            "text/plain": [
              "[1, 5, 9]"
            ]
          },
          "metadata": {},
          "execution_count": 52
        }
      ],
      "source": [
        "a5 = [1,5,9]\n",
        "a5"
      ]
    },
    {
      "cell_type": "markdown",
      "metadata": {
        "id": "V5p34eoL-COY"
      },
      "source": [
        "To do column vector and fancier array algebra, you need to define a numpy array which has more capabilities than the basic Python row vector (called \"list\")"
      ]
    },
    {
      "cell_type": "code",
      "execution_count": 53,
      "metadata": {
        "id": "gJ63DBdO-COY",
        "outputId": "1b4443c6-6252-4316-ad7f-741d37fbe67e",
        "colab": {
          "base_uri": "https://localhost:8080/"
        }
      },
      "outputs": [
        {
          "output_type": "execute_result",
          "data": {
            "text/plain": [
              "array([[2],\n",
              "       [4],\n",
              "       [8]])"
            ]
          },
          "metadata": {},
          "execution_count": 53
        }
      ],
      "source": [
        "a6 = np.array([[2, 4, 8]]).T\n",
        "a6"
      ]
    },
    {
      "cell_type": "code",
      "execution_count": 54,
      "metadata": {
        "id": "l9z7sQXH-COY",
        "outputId": "d23d5b53-591e-4ab2-aaf8-5c78b711eeab",
        "colab": {
          "base_uri": "https://localhost:8080/"
        }
      },
      "outputs": [
        {
          "output_type": "execute_result",
          "data": {
            "text/plain": [
              "array([[1, 8],\n",
              "       [4, 9]])"
            ]
          },
          "metadata": {},
          "execution_count": 54
        }
      ],
      "source": [
        "a7 = np.array([[1, 8], [4, 9]])\n",
        "a7"
      ]
    },
    {
      "cell_type": "markdown",
      "metadata": {
        "id": "T8RnnYgl-COY"
      },
      "source": [
        "## Creating useful vectors/matrices"
      ]
    },
    {
      "cell_type": "markdown",
      "metadata": {
        "id": "g6scmO1q-COY"
      },
      "source": [
        "np.arange is the Python equivalent of the colon in MATLAB. BUT: Python indexing is not inclusive of the ending index (more on indexing in the next section)"
      ]
    },
    {
      "cell_type": "code",
      "execution_count": 55,
      "metadata": {
        "id": "HgF3ZGJP-COY",
        "outputId": "bd2fcca0-93c8-45bb-9acb-45dd97ce0f4e",
        "colab": {
          "base_uri": "https://localhost:8080/"
        }
      },
      "outputs": [
        {
          "output_type": "execute_result",
          "data": {
            "text/plain": [
              "array([2, 3, 4, 5, 6, 7])"
            ]
          },
          "metadata": {},
          "execution_count": 55
        }
      ],
      "source": [
        "b1 = np.arange(2,8)\n",
        "b1"
      ]
    },
    {
      "cell_type": "code",
      "execution_count": 56,
      "metadata": {
        "id": "raZq6k6u-COZ",
        "outputId": "c92152a3-e9bf-40f4-ddad-243e73d23292",
        "colab": {
          "base_uri": "https://localhost:8080/"
        }
      },
      "outputs": [
        {
          "output_type": "execute_result",
          "data": {
            "text/plain": [
              "array([2. , 2.5, 3. , 3.5, 4. , 4.5, 5. , 5.5, 6. , 6.5, 7. , 7.5])"
            ]
          },
          "metadata": {},
          "execution_count": 56
        }
      ],
      "source": [
        "b2 = np.arange(2,8,0.5)\n",
        "b2"
      ]
    },
    {
      "cell_type": "code",
      "execution_count": 57,
      "metadata": {
        "id": "UA8-rktT-COZ",
        "outputId": "ac6a3494-e38a-4890-cf53-b67ffa411486",
        "colab": {
          "base_uri": "https://localhost:8080/"
        }
      },
      "outputs": [
        {
          "output_type": "execute_result",
          "data": {
            "text/plain": [
              "array([0.4       , 1.26666667, 2.13333333, 3.        , 3.86666667,\n",
              "       4.73333333, 5.6       , 6.46666667, 7.33333333, 8.2       ])"
            ]
          },
          "metadata": {},
          "execution_count": 57
        }
      ],
      "source": [
        "b3 = np.linspace(0.4,8.2,10)\n",
        "b3"
      ]
    },
    {
      "cell_type": "code",
      "execution_count": 58,
      "metadata": {
        "id": "lnByBBBf-COZ",
        "outputId": "7377b696-1878-4dab-e6bc-488a2b12330b",
        "colab": {
          "base_uri": "https://localhost:8080/"
        }
      },
      "outputs": [
        {
          "output_type": "execute_result",
          "data": {
            "text/plain": [
              "array([[0., 0., 0., 0., 0., 0., 0., 0., 0., 0., 0.],\n",
              "       [0., 0., 0., 0., 0., 0., 0., 0., 0., 0., 0.],\n",
              "       [0., 0., 0., 0., 0., 0., 0., 0., 0., 0., 0.],\n",
              "       [0., 0., 0., 0., 0., 0., 0., 0., 0., 0., 0.],\n",
              "       [0., 0., 0., 0., 0., 0., 0., 0., 0., 0., 0.],\n",
              "       [0., 0., 0., 0., 0., 0., 0., 0., 0., 0., 0.],\n",
              "       [0., 0., 0., 0., 0., 0., 0., 0., 0., 0., 0.],\n",
              "       [0., 0., 0., 0., 0., 0., 0., 0., 0., 0., 0.],\n",
              "       [0., 0., 0., 0., 0., 0., 0., 0., 0., 0., 0.],\n",
              "       [0., 0., 0., 0., 0., 0., 0., 0., 0., 0., 0.]])"
            ]
          },
          "metadata": {},
          "execution_count": 58
        }
      ],
      "source": [
        "b4 = np.zeros([10,11])\n",
        "b4"
      ]
    },
    {
      "cell_type": "code",
      "execution_count": 59,
      "metadata": {
        "id": "kjnIY4Xi-COZ",
        "outputId": "3c65c677-c8f3-4fa7-f8af-03312b2e0785",
        "colab": {
          "base_uri": "https://localhost:8080/"
        }
      },
      "outputs": [
        {
          "output_type": "execute_result",
          "data": {
            "text/plain": [
              "array([[1., 1., 1., 1., 1., 1., 1., 1., 1., 1., 1.],\n",
              "       [1., 1., 1., 1., 1., 1., 1., 1., 1., 1., 1.],\n",
              "       [1., 1., 1., 1., 1., 1., 1., 1., 1., 1., 1.],\n",
              "       [1., 1., 1., 1., 1., 1., 1., 1., 1., 1., 1.],\n",
              "       [1., 1., 1., 1., 1., 1., 1., 1., 1., 1., 1.],\n",
              "       [1., 1., 1., 1., 1., 1., 1., 1., 1., 1., 1.],\n",
              "       [1., 1., 1., 1., 1., 1., 1., 1., 1., 1., 1.],\n",
              "       [1., 1., 1., 1., 1., 1., 1., 1., 1., 1., 1.],\n",
              "       [1., 1., 1., 1., 1., 1., 1., 1., 1., 1., 1.],\n",
              "       [1., 1., 1., 1., 1., 1., 1., 1., 1., 1., 1.]])"
            ]
          },
          "metadata": {},
          "execution_count": 59
        }
      ],
      "source": [
        "b5 = np.ones([10,11])\n",
        "b5"
      ]
    },
    {
      "cell_type": "markdown",
      "metadata": {
        "id": "t9tW-vxT-COZ"
      },
      "source": [
        "numpy has some functions that are not imported by default, like those contained in matlib, these need to be imported separately"
      ]
    },
    {
      "cell_type": "code",
      "execution_count": 60,
      "metadata": {
        "id": "4xiik5eO-COZ",
        "outputId": "9fc37015-0138-4e3a-c10e-eb82e6823d8f",
        "colab": {
          "base_uri": "https://localhost:8080/"
        }
      },
      "outputs": [
        {
          "output_type": "execute_result",
          "data": {
            "text/plain": [
              "array([[2, 3, 4, 5, 6, 7, 2, 3, 4, 5, 6, 7],\n",
              "       [2, 3, 4, 5, 6, 7, 2, 3, 4, 5, 6, 7]])"
            ]
          },
          "metadata": {},
          "execution_count": 60
        }
      ],
      "source": [
        "import numpy.matlib\n",
        "b6 = np.matlib.repmat(b1, 2, 2)\n",
        "b6"
      ]
    },
    {
      "cell_type": "code",
      "execution_count": 61,
      "metadata": {
        "id": "XOFPUJXM-COZ",
        "outputId": "2b379702-d3a0-49c1-84c9-f7607546d876",
        "colab": {
          "base_uri": "https://localhost:8080/"
        }
      },
      "outputs": [
        {
          "output_type": "execute_result",
          "data": {
            "text/plain": [
              "array([[2. , 2. , 2. , 2. , 2. , 2. , 2. , 2. , 2. , 2. ],\n",
              "       [2.5, 2.5, 2.5, 2.5, 2.5, 2.5, 2.5, 2.5, 2.5, 2.5],\n",
              "       [3. , 3. , 3. , 3. , 3. , 3. , 3. , 3. , 3. , 3. ],\n",
              "       [3.5, 3.5, 3.5, 3.5, 3.5, 3.5, 3.5, 3.5, 3.5, 3.5],\n",
              "       [4. , 4. , 4. , 4. , 4. , 4. , 4. , 4. , 4. , 4. ],\n",
              "       [4.5, 4.5, 4.5, 4.5, 4.5, 4.5, 4.5, 4.5, 4.5, 4.5],\n",
              "       [5. , 5. , 5. , 5. , 5. , 5. , 5. , 5. , 5. , 5. ],\n",
              "       [5.5, 5.5, 5.5, 5.5, 5.5, 5.5, 5.5, 5.5, 5.5, 5.5],\n",
              "       [6. , 6. , 6. , 6. , 6. , 6. , 6. , 6. , 6. , 6. ],\n",
              "       [6.5, 6.5, 6.5, 6.5, 6.5, 6.5, 6.5, 6.5, 6.5, 6.5],\n",
              "       [7. , 7. , 7. , 7. , 7. , 7. , 7. , 7. , 7. , 7. ],\n",
              "       [7.5, 7.5, 7.5, 7.5, 7.5, 7.5, 7.5, 7.5, 7.5, 7.5]])"
            ]
          },
          "metadata": {},
          "execution_count": 61
        }
      ],
      "source": [
        "[b7,b8] = np.meshgrid(b2, b3, sparse=False, indexing='ij') #need to specify type of indexing in Python's meshgrid, ij is most common, and the same as matlab\n",
        "b7"
      ]
    },
    {
      "cell_type": "markdown",
      "source": [
        "np.meshgrid supports both indexing conventions through the indexing keyword argument. Giving the string ‘ij’ returns a meshgrid with matrix indexing, while ‘xy’ returns a meshgrid with Cartesian indexing. In the 2-D case with inputs of length M and N, the outputs are of shape (N, M) for ‘xy’ indexing and (M, N) for ‘ij’ indexing. In the 3-D case with inputs of length M, N and P, outputs are of shape (N, M, P) for ‘xy’ indexing and (M, N, P) for ‘ij’ indexing."
      ],
      "metadata": {
        "id": "R8gqbehtBpoQ"
      }
    },
    {
      "cell_type": "markdown",
      "metadata": {
        "id": "gFghXg07-COZ"
      },
      "source": [
        "## Indexing"
      ]
    },
    {
      "cell_type": "markdown",
      "metadata": {
        "id": "efxDB2RF-COZ"
      },
      "source": [
        "Indexing is one of the biggest differences between Python and MATLAB. Python is zero-indexed, which means that the first element of vector or array is indexed as '0'. Also, to reference an index in a Python array one uses square brackets '[]', whereas parenthesis '()' are only used to call functions. There are some other key differences which are explored in examples here"
      ]
    },
    {
      "cell_type": "code",
      "execution_count": 62,
      "metadata": {
        "id": "dZ078eoR-COZ",
        "outputId": "a2963374-b8df-4c66-f203-baebbf1682dc",
        "colab": {
          "base_uri": "https://localhost:8080/"
        }
      },
      "outputs": [
        {
          "output_type": "execute_result",
          "data": {
            "text/plain": [
              "2"
            ]
          },
          "metadata": {},
          "execution_count": 62
        }
      ],
      "source": [
        "c1 = b6[0,0]\n",
        "c1"
      ]
    },
    {
      "cell_type": "code",
      "execution_count": 63,
      "metadata": {
        "id": "UWtClr97-COZ",
        "outputId": "1144739d-0e22-428c-b0fe-a0d03503404f",
        "colab": {
          "base_uri": "https://localhost:8080/"
        }
      },
      "outputs": [
        {
          "output_type": "execute_result",
          "data": {
            "text/plain": [
              "3"
            ]
          },
          "metadata": {},
          "execution_count": 63
        }
      ],
      "source": [
        "c1 = b6[1,1]\n",
        "c1"
      ]
    },
    {
      "cell_type": "markdown",
      "metadata": {
        "id": "dygAQbIu-COZ"
      },
      "source": [
        "Another key difference is that when using vector indexing (i.e. with colons as you would in MATLAB), the indexing goes from the first index, and then up to BUT NOT INCLUDING the end index. So in the below example [0:2] yields a vector index including index 0 and 1, but not 2."
      ]
    },
    {
      "cell_type": "code",
      "execution_count": 64,
      "metadata": {
        "id": "PbXa2wi1-COZ",
        "outputId": "4d6aebe3-7f95-4e48-d743-8eb4977f98fd",
        "colab": {
          "base_uri": "https://localhost:8080/"
        }
      },
      "outputs": [
        {
          "output_type": "execute_result",
          "data": {
            "text/plain": [
              "array([2, 2])"
            ]
          },
          "metadata": {},
          "execution_count": 64
        }
      ],
      "source": [
        "c2 = b6[0:2,0]\n",
        "c2"
      ]
    },
    {
      "cell_type": "code",
      "execution_count": 65,
      "metadata": {
        "id": "QF0o2sfG-COZ",
        "outputId": "c80186d4-e4b4-4e11-d4fe-f8dc75406745",
        "colab": {
          "base_uri": "https://localhost:8080/"
        }
      },
      "outputs": [
        {
          "output_type": "execute_result",
          "data": {
            "text/plain": [
              "array([2, 4, 6])"
            ]
          },
          "metadata": {},
          "execution_count": 65
        }
      ],
      "source": [
        "c2 = b6[0,0:6:2] #note that the increment in a python vector index comes at the end (0:6:2 in this example)\n",
        "c2"
      ]
    },
    {
      "cell_type": "code",
      "execution_count": 66,
      "metadata": {
        "id": "1cclWp4T-COZ",
        "outputId": "a34b1520-1039-4d69-d8c6-f339406f7b8e",
        "colab": {
          "base_uri": "https://localhost:8080/"
        }
      },
      "outputs": [
        {
          "output_type": "execute_result",
          "data": {
            "text/plain": [
              "array([[2, 3],\n",
              "       [2, 3]])"
            ]
          },
          "metadata": {},
          "execution_count": 66
        }
      ],
      "source": [
        "c3 = b6[0:2,0:2]\n",
        "c3"
      ]
    },
    {
      "cell_type": "code",
      "execution_count": 67,
      "metadata": {
        "id": "pwfyV-bM-COZ",
        "outputId": "c5cfb711-d31e-4a0d-a133-83519eb4e532",
        "colab": {
          "base_uri": "https://localhost:8080/"
        }
      },
      "outputs": [
        {
          "output_type": "execute_result",
          "data": {
            "text/plain": [
              "7"
            ]
          },
          "metadata": {},
          "execution_count": 67
        }
      ],
      "source": [
        "c4 = b6[0,-1] #-1 is used instead of \"end\" to indicate the last element along a dimension of an array\n",
        "c4"
      ]
    },
    {
      "cell_type": "code",
      "execution_count": 68,
      "metadata": {
        "id": "8DLVKDha-COZ",
        "outputId": "10bf1499-bad0-41f1-a4f4-62adcaea3d58",
        "colab": {
          "base_uri": "https://localhost:8080/"
        }
      },
      "outputs": [
        {
          "output_type": "execute_result",
          "data": {
            "text/plain": [
              "array([4, 5, 6, 7, 2, 3])"
            ]
          },
          "metadata": {},
          "execution_count": 68
        }
      ],
      "source": [
        "c5 = b6[1,b1]\n",
        "c5"
      ]
    },
    {
      "cell_type": "markdown",
      "metadata": {
        "id": "K36Hwhy8-COh"
      },
      "source": [
        "## Boolean/Logical Operations"
      ]
    },
    {
      "cell_type": "markdown",
      "metadata": {
        "id": "k-UKMIT3-COh"
      },
      "source": [
        "Mostly these work the same as in MATLAB, though booleans are stored as \"True\" and \"False\" indexing is a bit different"
      ]
    },
    {
      "cell_type": "code",
      "execution_count": 69,
      "metadata": {
        "id": "Z1M0aRiL-COh",
        "outputId": "eb1fa691-2d11-4b5e-80b2-2ba3619929ed",
        "colab": {
          "base_uri": "https://localhost:8080/"
        }
      },
      "outputs": [
        {
          "output_type": "execute_result",
          "data": {
            "text/plain": [
              "array([ True,  True,  True, False, False, False])"
            ]
          },
          "metadata": {},
          "execution_count": 69
        }
      ],
      "source": [
        "l1 = b1 < 5\n",
        "l1"
      ]
    },
    {
      "cell_type": "code",
      "execution_count": 70,
      "metadata": {
        "id": "EweMBFUx-COh",
        "outputId": "d1bdc8bb-2bbe-454d-ad64-38b5a90da3fb",
        "colab": {
          "base_uri": "https://localhost:8080/"
        }
      },
      "outputs": [
        {
          "output_type": "execute_result",
          "data": {
            "text/plain": [
              "array([2, 3, 4])"
            ]
          },
          "metadata": {},
          "execution_count": 70
        }
      ],
      "source": [
        "l2 = b1[l1] #logical indexing mostly works the same as in MATLAB, but only works on numpy arrays\n",
        "l2"
      ]
    },
    {
      "cell_type": "markdown",
      "metadata": {
        "id": "NYSJIJwN-COh"
      },
      "source": [
        "As we will also see for loops below, conditional statements (if/else) do not have end like in MATLAB, BUT INDENTATION IS IMPORTANT AND ENFORCED IN PYTHON (compared to MATLAB where indentation does not play a role in code execution)"
      ]
    },
    {
      "cell_type": "code",
      "execution_count": 71,
      "metadata": {
        "id": "_y7emesi-COh",
        "outputId": "e2fd53f1-ec3c-4dad-ef1a-82994fd9968a",
        "colab": {
          "base_uri": "https://localhost:8080/"
        }
      },
      "outputs": [
        {
          "output_type": "stream",
          "name": "stdout",
          "text": [
            "oh no!\n"
          ]
        }
      ],
      "source": [
        "if c1>5 : #use a colon to indicate the end of the logical condition\n",
        "    print('hurray!')\n",
        "elif c1<0 : #elif instead of else if\n",
        "    print('sure...')\n",
        "else :\n",
        "    print('oh no!')"
      ]
    },
    {
      "cell_type": "code",
      "execution_count": 72,
      "metadata": {
        "id": "Al0Q9bNT-COi",
        "outputId": "fb1ef381-bdb6-4c12-cbb6-f8b47602be17",
        "colab": {
          "base_uri": "https://localhost:8080/"
        }
      },
      "outputs": [
        {
          "output_type": "execute_result",
          "data": {
            "text/plain": [
              "array([False,  True,  True, False, False, False])"
            ]
          },
          "metadata": {},
          "execution_count": 72
        }
      ],
      "source": [
        "l3 = (b1 < 5) & (b1 > 2)\n",
        "l3"
      ]
    },
    {
      "cell_type": "code",
      "execution_count": 73,
      "metadata": {
        "id": "rU8HiZX--COi",
        "outputId": "56a90457-aa6b-4280-a1ac-938b0fd3e6e2",
        "colab": {
          "base_uri": "https://localhost:8080/"
        }
      },
      "outputs": [
        {
          "output_type": "execute_result",
          "data": {
            "text/plain": [
              "array([False, False, False, False,  True,  True])"
            ]
          },
          "metadata": {},
          "execution_count": 73
        }
      ],
      "source": [
        "l4 = (b1 > 5) | (b1 < 2)\n",
        "l4"
      ]
    },
    {
      "cell_type": "markdown",
      "metadata": {
        "id": "cloJGe2j-COi"
      },
      "source": [
        "## Vector and matrix manipulation and arithmetic"
      ]
    },
    {
      "cell_type": "code",
      "execution_count": 74,
      "metadata": {
        "id": "_UoR5GpF-COi",
        "outputId": "790530e5-043a-4517-8442-85e6760efab1",
        "colab": {
          "base_uri": "https://localhost:8080/"
        }
      },
      "outputs": [
        {
          "output_type": "execute_result",
          "data": {
            "text/plain": [
              "array([[2, 2],\n",
              "       [3, 3],\n",
              "       [4, 4],\n",
              "       [5, 5],\n",
              "       [6, 6],\n",
              "       [7, 7],\n",
              "       [2, 2],\n",
              "       [3, 3],\n",
              "       [4, 4],\n",
              "       [5, 5],\n",
              "       [6, 6],\n",
              "       [7, 7]])"
            ]
          },
          "metadata": {},
          "execution_count": 74
        }
      ],
      "source": [
        "d1 = b6.transpose()\n",
        "d1"
      ]
    },
    {
      "cell_type": "code",
      "execution_count": 75,
      "metadata": {
        "id": "QlGFl_OG-COi",
        "outputId": "f284352a-c0cf-4a17-f7d0-684f3b5e4881",
        "colab": {
          "base_uri": "https://localhost:8080/"
        }
      },
      "outputs": [
        {
          "output_type": "execute_result",
          "data": {
            "text/plain": [
              "108"
            ]
          },
          "metadata": {},
          "execution_count": 75
        }
      ],
      "source": [
        "d2 = np.sum(b6,axis=None)\n",
        "d2"
      ]
    },
    {
      "cell_type": "code",
      "execution_count": 76,
      "metadata": {
        "id": "fUMMCDgR-COi",
        "outputId": "3facf763-251c-4978-add4-f6854ecc7e8b",
        "colab": {
          "base_uri": "https://localhost:8080/"
        }
      },
      "outputs": [
        {
          "output_type": "execute_result",
          "data": {
            "text/plain": [
              "array([ 4,  6,  8, 10, 12, 14,  4,  6,  8, 10, 12, 14])"
            ]
          },
          "metadata": {},
          "execution_count": 76
        }
      ],
      "source": [
        "d3 = np.sum(b6,axis=0)\n",
        "d3"
      ]
    },
    {
      "cell_type": "code",
      "execution_count": 77,
      "metadata": {
        "id": "-vscxnfW-COi",
        "outputId": "3ca65752-b47d-4c51-f02e-7a84b1b19d4d",
        "colab": {
          "base_uri": "https://localhost:8080/"
        }
      },
      "outputs": [
        {
          "output_type": "execute_result",
          "data": {
            "text/plain": [
              "array([[0.51208622, 0.62035423, 3.51060259, 1.15449555, 2.80703391,\n",
              "        3.09560192, 0.70766538, 1.51479977, 0.91336109, 1.20299281,\n",
              "        0.34473586, 1.58435583],\n",
              "       [0.75657647, 0.14289681, 0.06223914, 1.00357423, 5.52761676,\n",
              "        1.34726919, 1.9530837 , 0.17875567, 3.02637418, 0.70840028,\n",
              "        5.10487108, 5.36951088]])"
            ]
          },
          "metadata": {},
          "execution_count": 77
        }
      ],
      "source": [
        "d4a = np.random.rand(2,12)\n",
        "d4 = b6*d4a #note the default in Python is elementwise multiplication with *\n",
        "d4"
      ]
    },
    {
      "cell_type": "code",
      "execution_count": 78,
      "metadata": {
        "id": "9VocTETb-COi",
        "outputId": "1450e214-32a9-4597-b0b4-3663442d02f3",
        "colab": {
          "base_uri": "https://localhost:8080/"
        }
      },
      "outputs": [
        {
          "output_type": "execute_result",
          "data": {
            "text/plain": [
              "array([[34.37095679, 26.41821926],\n",
              "       [34.37095679, 26.41821926]])"
            ]
          },
          "metadata": {},
          "execution_count": 78
        }
      ],
      "source": [
        "d5a = np.random.rand(12,2)\n",
        "d5 = b6 @ d5a #for matrix multiplication use @\n",
        "d5"
      ]
    },
    {
      "cell_type": "code",
      "execution_count": 79,
      "metadata": {
        "id": "YX-IYOR4-COi",
        "outputId": "dfdc073f-dc65-4563-afe4-85c244c756cf",
        "colab": {
          "base_uri": "https://localhost:8080/"
        }
      },
      "outputs": [
        {
          "output_type": "execute_result",
          "data": {
            "text/plain": [
              "(array([[-1.48871606],\n",
              "        [ 1.62283168],\n",
              "        [ 1.96711925]]),\n",
              " array([], dtype=float64),\n",
              " 3,\n",
              " array([1.28108389, 0.47997428, 0.13866652]))"
            ]
          },
          "metadata": {},
          "execution_count": 79
        }
      ],
      "source": [
        "d6a = np.random.rand(3,3)\n",
        "d6b = np.random.rand(3,1)\n",
        "x = np.linalg.lstsq(d6a,d6b,rcond=None)\n",
        "x"
      ]
    },
    {
      "cell_type": "markdown",
      "metadata": {
        "id": "YdK4tdWa-COi"
      },
      "source": [
        "## Loops"
      ]
    },
    {
      "cell_type": "code",
      "execution_count": 80,
      "metadata": {
        "id": "9tMod9rc-COi",
        "outputId": "b731dede-3ac9-4848-f61a-d2110d174caa",
        "colab": {
          "base_uri": "https://localhost:8080/"
        }
      },
      "outputs": [
        {
          "output_type": "execute_result",
          "data": {
            "text/plain": [
              "246.86666666666667"
            ]
          },
          "metadata": {},
          "execution_count": 80
        }
      ],
      "source": [
        "e1=0\n",
        "for i in np.arange(0,10) :   #for loop iterates over the vector i (from 0 to 9) with defined boundaries\n",
        "    e1 = e1 + (b3[i]**2)\n",
        "e1"
      ]
    },
    {
      "cell_type": "code",
      "execution_count": 81,
      "metadata": {
        "id": "SyHKzX8u-COi",
        "outputId": "fafc9823-0127-43b7-bf5a-dfd3d2ba0c6a",
        "colab": {
          "base_uri": "https://localhost:8080/"
        }
      },
      "outputs": [
        {
          "output_type": "execute_result",
          "data": {
            "text/plain": [
              "246.86666666666667"
            ]
          },
          "metadata": {},
          "execution_count": 81
        }
      ],
      "source": [
        "e2 = np.sum(b3**2)\n",
        "e2"
      ]
    },
    {
      "cell_type": "code",
      "execution_count": 82,
      "metadata": {
        "id": "NEUr4jAZ-COi",
        "outputId": "c6cdbb67-cf20-4770-b4f6-37939f75a7c8",
        "colab": {
          "base_uri": "https://localhost:8080/"
        }
      },
      "outputs": [
        {
          "output_type": "execute_result",
          "data": {
            "text/plain": [
              "10.080000000000007"
            ]
          },
          "metadata": {},
          "execution_count": 82
        }
      ],
      "source": [
        "e3=0\n",
        "i=0\n",
        "while e3 < 10 :   #while loop iterates indeinfitely while a logical operation is still true\n",
        "    e3=e3 + (b3[i]**2)\n",
        "e3"
      ]
    },
    {
      "cell_type": "markdown",
      "metadata": {
        "id": "yrUu-lLz-COi"
      },
      "source": [
        "## Functions"
      ]
    },
    {
      "cell_type": "markdown",
      "metadata": {
        "id": "7lqy8bVU-COi"
      },
      "source": [
        "Lambda functions are used to anonymously define a function inline in Python. Otherwise, they must be defined using def, a colon and indenting"
      ]
    },
    {
      "cell_type": "code",
      "execution_count": 83,
      "metadata": {
        "id": "GaBQY58G-COi"
      },
      "outputs": [],
      "source": [
        "fcn = lambda x: np.exp(np.sin(x)**2) #lambda anonymous function"
      ]
    },
    {
      "cell_type": "code",
      "execution_count": 84,
      "metadata": {
        "id": "UXzS0yHk-COi"
      },
      "outputs": [],
      "source": [
        "def fcn2(x):\n",
        "    return np.exp(np.sin(x)**2)"
      ]
    },
    {
      "cell_type": "code",
      "execution_count": 85,
      "metadata": {
        "id": "7Y0jpSNX-COi",
        "outputId": "06f2a1cd-e2a1-4bbd-ec04-7316110ffe60",
        "colab": {
          "base_uri": "https://localhost:8080/"
        }
      },
      "outputs": [
        {
          "output_type": "execute_result",
          "data": {
            "text/plain": [
              "2.0300763806332567"
            ]
          },
          "metadata": {},
          "execution_count": 85
        }
      ],
      "source": [
        "fcn(1)"
      ]
    },
    {
      "cell_type": "markdown",
      "metadata": {
        "id": "QWMwHuUn-COi"
      },
      "source": [
        "## Plotting"
      ]
    },
    {
      "cell_type": "code",
      "execution_count": 86,
      "metadata": {
        "id": "bjt_St-A-COi",
        "outputId": "77a96408-bae8-41f5-c49b-d859d7631f1a",
        "colab": {
          "base_uri": "https://localhost:8080/",
          "height": 430
        }
      },
      "outputs": [
        {
          "output_type": "display_data",
          "data": {
            "text/plain": [
              "<Figure size 640x480 with 1 Axes>"
            ],
            "image/png": "[encoded data removed]"
          },
          "metadata": {}
        }
      ],
      "source": [
        "f1=b2**2\n",
        "plt.plot(b2,f1)\n",
        "plt.show()"
      ]
    },
    {
      "cell_type": "code",
      "execution_count": 87,
      "metadata": {
        "id": "xuaoRaK1-COj",
        "outputId": "762fad15-9684-4379-a031-07bd1ec41052",
        "colab": {
          "base_uri": "https://localhost:8080/",
          "height": 482
        }
      },
      "outputs": [
        {
          "output_type": "display_data",
          "data": {
            "text/plain": [
              "<Figure size 640x480 with 1 Axes>"
            ],
            "image/png": "[encoded data removed]"
          },
          "metadata": {}
        }
      ],
      "source": [
        "plt.plot(b2, b2**2, 'o', color='green',label = \"line 1\")\n",
        "# plotting the line 2 points\n",
        "plt.plot(b2, b2**3, 'o', color='red',label = \"line 2\")\n",
        "plt.xlabel('x - axis',fontsize=18)\n",
        "# Set the y axis label of the current axis.\n",
        "plt.ylabel('y - axis',fontsize=18)\n",
        "# Set a title of the current axes.\n",
        "plt.title('Two or more lines on same plot with suitable legends ')\n",
        "# show a legend on the plot\n",
        "plt.legend()\n",
        "# Display a figure.\n",
        "plt.show()"
      ]
    },
    {
      "cell_type": "code",
      "execution_count": 88,
      "metadata": {
        "id": "Y8dmUj_K-COj",
        "outputId": "148495c0-25ad-4bbd-fbb0-853781ade350",
        "colab": {
          "base_uri": "https://localhost:8080/",
          "height": 511
        }
      },
      "outputs": [
        {
          "output_type": "execute_result",
          "data": {
            "text/plain": [
              "Text(0.5, 1.0, 'F3(B2,B3)')"
            ]
          },
          "metadata": {},
          "execution_count": 88
        },
        {
          "output_type": "display_data",
          "data": {
            "text/plain": [
              "<Figure size 640x480 with 1 Axes>"
            ],
            "image/png": "[encoded data removed]"
          },
          "metadata": {}
        }
      ],
      "source": [
        "[B2,B3] = np.meshgrid(b2,b3)\n",
        "F3 = np.sin(B2) + np.exp(-(B3-4)**2)\n",
        "plt.contour(B2,B3,F3)\n",
        "plt.colorbar\n",
        "plt.xlabel('B2',fontsize=20)\n",
        "plt.ylabel('B3',fontsize=20)\n",
        "plt.title('F3(B2,B3)',fontsize=20)"
      ]
    },
    {
      "cell_type": "code",
      "execution_count": 89,
      "metadata": {
        "id": "F4j2EPWh-COj",
        "outputId": "0d974bf7-49e5-4004-aa44-90a8d031a15f",
        "colab": {
          "base_uri": "https://localhost:8080/",
          "height": 511
        }
      },
      "outputs": [
        {
          "output_type": "execute_result",
          "data": {
            "text/plain": [
              "<matplotlib.colorbar.Colorbar at 0x7f9e40fb9150>"
            ]
          },
          "metadata": {},
          "execution_count": 89
        },
        {
          "output_type": "display_data",
          "data": {
            "text/plain": [
              "<Figure size 640x480 with 2 Axes>"
            ],
            "image/png": "[encoded data removed]"
          },
          "metadata": {}
        }
      ],
      "source": [
        "plt.contourf(B2,B3,F3)\n",
        "plt.colorbar\n",
        "plt.xlabel('B2',fontsize=20)\n",
        "plt.ylabel('B3',fontsize=20)\n",
        "plt.title('F3(B2,B3)',fontsize=20)\n",
        "plt.colorbar()"
      ]
    },
    {
      "cell_type": "code",
      "execution_count": 90,
      "metadata": {
        "id": "bjheh-4x-COj",
        "outputId": "281d0ab8-346e-4ebb-d375-fe5ccb3405d0",
        "colab": {
          "base_uri": "https://localhost:8080/",
          "height": 511
        }
      },
      "outputs": [
        {
          "output_type": "execute_result",
          "data": {
            "text/plain": [
              "<matplotlib.colorbar.Colorbar at 0x7f9e40c686d0>"
            ]
          },
          "metadata": {},
          "execution_count": 90
        },
        {
          "output_type": "display_data",
          "data": {
            "text/plain": [
              "<Figure size 640x480 with 2 Axes>"
            ],
            "image/png": "[encoded data removed]"
          },
          "metadata": {}
        }
      ],
      "source": [
        "plt.pcolor(B2,B3,F3)\n",
        "plt.colorbar\n",
        "plt.xlabel('B2',fontsize=20)\n",
        "plt.ylabel('B3',fontsize=20)\n",
        "plt.title('F3(B2,B3)',fontsize=20)\n",
        "plt.colorbar()"
      ]
    },
    {
      "cell_type": "code",
      "execution_count": 91,
      "metadata": {
        "id": "_v0IXcn3-COj",
        "outputId": "4dac740e-4df2-4f7c-eda1-0acee5de6e8c",
        "colab": {
          "base_uri": "https://localhost:8080/",
          "height": 457
        }
      },
      "outputs": [
        {
          "output_type": "execute_result",
          "data": {
            "text/plain": [
              "Text(0.5, 0.92, 'F3(B2,B3)')"
            ]
          },
          "metadata": {},
          "execution_count": 91
        },
        {
          "output_type": "display_data",
          "data": {
            "text/plain": [
              "<Figure size 640x480 with 1 Axes>"
            ],
            "image/png": "[encoded data removed]"
          },
          "metadata": {}
        }
      ],
      "source": [
        "ax = plt.axes(projection='3d')\n",
        "ax.plot_surface(B2,B3,F3, rstride=1, cstride=1,cmap='viridis', edgecolor='none')\n",
        "ax.set_title('surface');\n",
        "plt.colorbar\n",
        "plt.xlabel('B2',fontsize=20)\n",
        "plt.ylabel('B3',fontsize=20)\n",
        "plt.title('F3(B2,B3)',fontsize=20)"
      ]
    },
    {
      "cell_type": "markdown",
      "metadata": {
        "id": "6Zvrn0PP-COj"
      },
      "source": [
        "## Saving/Loading"
      ]
    },
    {
      "cell_type": "markdown",
      "metadata": {
        "id": "uRwZg69U-COj"
      },
      "source": [
        "Python does not have a built-in compressed format like MATLAB, but its works with a much wider range of data types (saving/loading) and has certain commonly-used data formats like pickles, pandas for spreadsheet-like data, and xarray for gridded data in netCDF format. Here, I show simple example using np.save and np.load"
      ]
    },
    {
      "cell_type": "code",
      "source": [
        "# save the array b6 in to the file \"datafile_name.npy\"\n",
        "np.save('datafile_name.npy',b6)"
      ],
      "metadata": {
        "id": "ABp19pdkGVU0"
      },
      "execution_count": 92,
      "outputs": []
    },
    {
      "cell_type": "code",
      "source": [
        "# read theh data from \"datafile_name.npy\" and assign to the variable \"b6_from_file\"\n",
        "b6_from_file = np.load('datafile_name.npy')\n",
        "b6_from_file"
      ],
      "metadata": {
        "colab": {
          "base_uri": "https://localhost:8080/"
        },
        "id": "YX9IHm61G7PQ",
        "outputId": "b38a518c-3083-4d8a-a8d2-8fa39d464b66"
      },
      "execution_count": 93,
      "outputs": [
        {
          "output_type": "execute_result",
          "data": {
            "text/plain": [
              "array([[2, 3, 4, 5, 6, 7, 2, 3, 4, 5, 6, 7],\n",
              "       [2, 3, 4, 5, 6, 7, 2, 3, 4, 5, 6, 7]])"
            ]
          },
          "metadata": {},
          "execution_count": 93
        }
      ]
    },
    {
      "cell_type": "code",
      "source": [
        "# save the array b1, b2, and b6 in to the file \"datafile_multi.npz\"\n",
        "np.savez('datafile_multi.npz',b1=b1,b2=b2,b6=b6)"
      ],
      "metadata": {
        "id": "0oSLkC7GHTke"
      },
      "execution_count": 94,
      "outputs": []
    },
    {
      "cell_type": "code",
      "source": [
        "dataset = np.load('datafile_multi.npz')\n",
        "dataset['b6']"
      ],
      "metadata": {
        "colab": {
          "base_uri": "https://localhost:8080/"
        },
        "id": "v2VbBw0tHydl",
        "outputId": "d0229f1e-919c-49bc-edb2-139a921df01a"
      },
      "execution_count": 95,
      "outputs": [
        {
          "output_type": "execute_result",
          "data": {
            "text/plain": [
              "array([[2, 3, 4, 5, 6, 7, 2, 3, 4, 5, 6, 7],\n",
              "       [2, 3, 4, 5, 6, 7, 2, 3, 4, 5, 6, 7]])"
            ]
          },
          "metadata": {},
          "execution_count": 95
        }
      ]
    },
    {
      "cell_type": "code",
      "source": [],
      "metadata": {
        "id": "jXNRuih0H0fR"
      },
      "execution_count": 95,
      "outputs": []
    }
  ],
  "metadata": {
    "kernelspec": {
      "display_name": "Python 3",
      "language": "python",
      "name": "python3"
    },
    "language_info": {
      "codemirror_mode": {
        "name": "ipython",
        "version": 3
      },
      "file_extension": ".py",
      "mimetype": "text/x-python",
      "name": "python",
      "nbconvert_exporter": "python",
      "pygments_lexer": "ipython3",
      "version": "3.7.3"
    },
    "colab": {
      "provenance": [],
      "include_colab_link": true
    }
  },
  "nbformat": 4,
  "nbformat_minor": 0
}